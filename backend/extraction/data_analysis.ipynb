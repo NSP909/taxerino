{
 "cells": [
  {
   "cell_type": "code",
   "execution_count": 1,
   "metadata": {},
   "outputs": [],
   "source": [
    "import os\n",
    "from openai import OpenAI\n",
    "from pdf2image import convert_from_path\n",
    "from dotenv import load_dotenv\n",
    "import base64\n",
    "import json\n",
    "import ssl\n",
    "import certifi\n",
    "from pymongo import MongoClient"
   ]
  },
  {
   "cell_type": "code",
   "execution_count": 2,
   "metadata": {},
   "outputs": [],
   "source": [
    "load_dotenv()\n",
    "client = OpenAI(\n",
    "    api_key=os.environ.get(\"OPENAI_API_KEY\"),\n",
    ")"
   ]
  },
  {
   "cell_type": "code",
   "execution_count": 3,
   "metadata": {},
   "outputs": [],
   "source": [
    "def pdf_to_images(pdf_path, dpi=200, output_folder=\"temp_images\"):\n",
    "    if not os.path.exists(output_folder):\n",
    "        os.makedirs(output_folder)\n",
    "    # Convert PDF pages to a list of PIL Image objects\n",
    "    images = convert_from_path(pdf_path, dpi=dpi)\n",
    "    image_files = []\n",
    "    for i, image in enumerate(images):\n",
    "        image_path = os.path.join(output_folder, f\"page_{i+1}.png\")\n",
    "        image.save(image_path, \"PNG\")\n",
    "        image_files.append(image_path)\n",
    "    return image_files\n",
    "def encode_image(image_path):\n",
    "    with open(image_path, \"rb\") as image_file:\n",
    "        return base64.b64encode(image_file.read()).decode('utf-8')\n",
    "def extract_text_from_pdf(pdf_path):\n",
    "    # Convert PDF to images\n",
    "    images_array = pdf_to_images(pdf_path)\n",
    "    responses = []\n",
    "\n",
    "    # Process each image\n",
    "    for image_path in images_array:\n",
    "        # Encode the image\n",
    "        base64_image = encode_image(image_path)\n",
    "        \n",
    "        try:\n",
    "            response = client.chat.completions.create(\n",
    "                model=\"gpt-4o\",  # Correct model name\n",
    "                messages=[\n",
    "                    {\n",
    "                        \"role\": \"system\",\n",
    "                        \"content\": \"\"\"You are a tax expert. You will be provided with a document image, and your task is to extract all the text from it. \n",
    "                        Please don't add any additional information. Also only extract information from documents which are in the form of tax documents/bank statments etc instead of just plain text.\n",
    "                        Also I want you to process the output in the form of a json schema with as many fields as possible with values. \n",
    "                        There is no defined schema you need to extract as much info as you can in a json schema.\"\"\"\n",
    "                    },\n",
    "                    {\n",
    "                        \"role\": \"user\",\n",
    "                        \"content\": [\n",
    "                            {\"type\": \"text\", \"text\": \"Extract all the info from this and give me back a json and not a string\"},\n",
    "                            {\n",
    "                                \"type\": \"image_url\",\n",
    "                                \"image_url\": {\n",
    "                                    \"url\": f\"data:image/jpeg;base64,{base64_image}\"\n",
    "                                }\n",
    "                            }\n",
    "                        ]\n",
    "                    }\n",
    "                ],\n",
    "                max_tokens=1000\n",
    "            )\n",
    "\n",
    "            # Extract content from the response object correctly\n",
    "            responses.append(response.choices[0].message.content)\n",
    "        except Exception as e:\n",
    "            print(f\"Error processing image {image_path}: {str(e)}\")\n",
    "            \n",
    "    # Clean up temporary image files\n",
    "    for image_path in images_array:\n",
    "        try:\n",
    "            os.remove(image_path)\n",
    "        except Exception as e:\n",
    "            print(f\"Error removing temporary file {image_path}: {str(e)}\")\n",
    "            \n",
    "    # Join text from all pages\n",
    "    extracted_text = \"\\n\\n\".join(responses)\n",
    "    return extracted_text\n"
   ]
  },
  {
   "cell_type": "code",
   "execution_count": 5,
   "metadata": {},
   "outputs": [],
   "source": [
    "combined_json = {}"
   ]
  },
  {
   "cell_type": "code",
   "execution_count": 6,
   "metadata": {},
   "outputs": [],
   "source": [
    "pdf_path = \"/Users/ritesh/hacklytics/taxerino/backend/extraction/bank_statement.pdf\"\n",
    "extracted_text = extract_text_from_pdf(pdf_path)\n",
    "data = json.loads(extracted_text[7:len(extracted_text)-3])\n",
    "combined_json.update(data)"
   ]
  },
  {
   "cell_type": "code",
   "execution_count": 7,
   "metadata": {},
   "outputs": [
    {
     "data": {
      "text/plain": [
       "{'bank_name': 'Commerce Bank',\n",
       " 'bank_address': '1000 Walnut, Kansas City MO 64106-3686',\n",
       " 'customer_name': 'Jane Customer',\n",
       " 'customer_address': '1234 Anywhere Dr. Small Town, MO 12345-6789',\n",
       " 'primary_account_number': '000009752',\n",
       " 'statement_date': 'June 5, 2003',\n",
       " 'page_number': 1,\n",
       " 'account_summary': {'account_number': '000009752',\n",
       "  'beginning_balance': '$7,126.11',\n",
       "  'deposits_and_credits': '+3,615.08',\n",
       "  'atm_withdrawals_debits': '-20.00',\n",
       "  'visa_check_card_purchases_debits': '-0.00',\n",
       "  'withdrawals_other_debits': '-0.00',\n",
       "  'checks_paid': '-200.00',\n",
       "  'ending_balance': '$10,521.19'},\n",
       " 'deposits_and_other_credits': [{'account_number': '000009752',\n",
       "   'description': 'Deposit',\n",
       "   'reference_number': '130012345',\n",
       "   'date_credited': '05-15',\n",
       "   'amount': '$3,615.08'}],\n",
       " 'total_deposits_and_credits': '$3,615.08',\n",
       " 'atm_withdrawals_and_debits': [{'account_number': '000009752',\n",
       "   'description': 'ATM Withdrawal',\n",
       "   'location': '1000 Walnut St',\n",
       "   'city': 'Kansas City MO',\n",
       "   'terminal_id': '00005678',\n",
       "   'mcr': 'M119',\n",
       "   'tran_date': '05-18',\n",
       "   'date_paid': '05-19',\n",
       "   'amount': '$20.00'}],\n",
       " 'total_atm_withdrawals_and_debits': '$20.00',\n",
       " 'checks_paid': [{'account_number': '000009752',\n",
       "   'date_paid': '05-12',\n",
       "   'check_number': '1001',\n",
       "   'amount': '75.00',\n",
       "   'reference_number': '00012576589'},\n",
       "  {'account_number': '000009752',\n",
       "   'date_paid': '05-18',\n",
       "   'check_number': '1002',\n",
       "   'amount': '30.00',\n",
       "   'reference_number': '00036547854'},\n",
       "  {'account_number': '000009752',\n",
       "   'date_paid': '05-24',\n",
       "   'check_number': '1003',\n",
       "   'amount': '200.00',\n",
       "   'reference_number': '00094613547'}],\n",
       " 'total_checks_paid': '$305.00'}"
      ]
     },
     "execution_count": 7,
     "metadata": {},
     "output_type": "execute_result"
    }
   ],
   "source": [
    "combined_json"
   ]
  },
  {
   "cell_type": "code",
   "execution_count": 8,
   "metadata": {},
   "outputs": [
    {
     "name": "stdout",
     "output_type": "stream",
     "text": [
      "Based on the provided data, I will create two lists: one for the transaction dates and one for the corresponding transaction amounts. These can be used for further data analysis or visualization.\n",
      "\n",
      "1. **Transaction Dates:**\n",
      "   - Deposit: '05-15'\n",
      "   - ATM Withdrawal: '05-18'\n",
      "   - Check Paid: '05-12'\n",
      "   - Check Paid: '05-18'\n",
      "   - Check Paid: '05-24'\n",
      "\n",
      "2. **Transaction Amounts:**\n",
      "   - Deposit: 3615.08\n",
      "   - ATM Withdrawal: 20.00\n",
      "   - Check Paid: 75.00\n",
      "   - Check Paid: 30.00\n",
      "   - Check Paid: 200.00\n",
      "\n",
      "These lists show transactions across different days in May, with the corresponding financial amounts. You can use these lists to create plots or graphs to visualize cash flow or expenditure over the timeframe of the bank statement.\n"
     ]
    }
   ],
   "source": [
    "def extract_insights(json_data):\n",
    "    completion = client.chat.completions.create(\n",
    "    model=\"gpt-4o\",\n",
    "    messages=[\n",
    "        {\"role\": \"system\", \"content\": \"\"\"You are a helpful finance/tax assistant who recieves json formatted data.\n",
    "         The data will be related to finance/tax and your job is to provide me with the data that I can use to perfrom some nice visualizations\n",
    "         give me the result in the form of 2 lists on which I can peform some data analysis/viz\"\"\"},\n",
    "        {\n",
    "            \"role\": \"user\",\n",
    "            \"content\": str(combined_json)\n",
    "        }\n",
    "    ]\n",
    "    )\n",
    "    return completion.choices[0].message.content\n",
    "    \n",
    "print(extract_insights(combined_json))"
   ]
  },
  {
   "cell_type": "code",
   "execution_count": null,
   "metadata": {},
   "outputs": [],
   "source": [
    "upload_folder = '/Users/abhyudaygoyal/Desktop/HACKLYTICS/taxerino/backend/uploads'\n",
    "all_data = {}\n",
    "pdf_files = [f for f in os.listdir(upload_folder) if f.endswith('.pdf')]\n",
    "print(pdf_files)"
   ]
  }
 ],
 "metadata": {
  "kernelspec": {
   "display_name": "venv",
   "language": "python",
   "name": "python3"
  },
  "language_info": {
   "codemirror_mode": {
    "name": "ipython",
    "version": 3
   },
   "file_extension": ".py",
   "mimetype": "text/x-python",
   "name": "python",
   "nbconvert_exporter": "python",
   "pygments_lexer": "ipython3",
   "version": "3.13.1"
  }
 },
 "nbformat": 4,
 "nbformat_minor": 2
}
