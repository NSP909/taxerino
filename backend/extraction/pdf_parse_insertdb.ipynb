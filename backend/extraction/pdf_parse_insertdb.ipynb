{
 "cells": [
  {
   "cell_type": "code",
   "execution_count": 2,
   "metadata": {},
   "outputs": [],
   "source": [
    "import os\n",
    "from openai import OpenAI\n",
    "from pdf2image import convert_from_path\n",
    "from dotenv import load_dotenv\n",
    "import base64\n",
    "import json\n",
    "import ssl\n",
    "import certifi\n",
    "from pymongo import MongoClient\n"
   ]
  },
  {
   "cell_type": "code",
   "execution_count": 3,
   "metadata": {},
   "outputs": [],
   "source": [
    "load_dotenv()\n",
    "uri = os.getenv(\"MONGO_URI\")"
   ]
  },
  {
   "cell_type": "code",
   "execution_count": 4,
   "metadata": {},
   "outputs": [],
   "source": [
    "mongo_client = MongoClient(\n",
    "    uri,\n",
    "    tls=True,\n",
    "    tlsCAFile=certifi.where()\n",
    ")\n",
    "client = OpenAI(\n",
    "    api_key=os.environ.get(\"OPENAI_API_KEY\"),)"
   ]
  },
  {
   "cell_type": "code",
   "execution_count": 5,
   "metadata": {},
   "outputs": [],
   "source": [
    "def pdf_to_images(pdf_path, dpi=200, output_folder=\"temp_images\"):\n",
    "    if not os.path.exists(output_folder):\n",
    "        os.makedirs(output_folder)\n",
    "    # Convert PDF pages to a list of PIL Image objects\n",
    "    images = convert_from_path(pdf_path, dpi=dpi)\n",
    "    image_files = []\n",
    "    for i, image in enumerate(images):\n",
    "        image_path = os.path.join(output_folder, f\"page_{i+1}.png\")\n",
    "        image.save(image_path, \"PNG\")\n",
    "        image_files.append(image_path)\n",
    "    return image_files\n",
    "\n",
    "def encode_image(image_path):\n",
    "    with open(image_path, \"rb\") as image_file:\n",
    "        return base64.b64encode(image_file.read()).decode('utf-8')\n",
    "\n",
    "def extract_text_from_pdf(pdf_path):\n",
    "    # Convert PDF to images\n",
    "    images_array = pdf_to_images(pdf_path)\n",
    "    responses = []\n",
    "\n",
    "    # Process each image\n",
    "    for image_path in images_array:\n",
    "        # Encode the image\n",
    "        base64_image = encode_image(image_path)\n",
    "        \n",
    "        try:\n",
    "            response = client.chat.completions.create(\n",
    "                model=\"gpt-4o\",  # Correct model name\n",
    "                messages=[\n",
    "                    {\n",
    "                        \"role\": \"system\",\n",
    "                        \"content\": \"\"\"You are a tax expert. You will be provided with a document image, and your task is to extract all the text from it. \n",
    "                        Please don't add any additional information. Also only extract information from documents which are in the form of tax documents/bank statments etc instead of just plain text.\n",
    "                        Also I want you to process the output in the form of a json schema with as many fields as possible with values. \n",
    "                        There is no defined schema you need to extract as much info as you can in a json schema.\"\"\"\n",
    "                    },\n",
    "                    {\n",
    "                        \"role\": \"user\",\n",
    "                        \"content\": [\n",
    "                            {\"type\": \"text\", \"text\": \"Extract all the info from this and give me back a json and not a string\"},\n",
    "                            {\n",
    "                                \"type\": \"image_url\",\n",
    "                                \"image_url\": {\n",
    "                                    \"url\": f\"data:image/jpeg;base64,{base64_image}\"\n",
    "                                }\n",
    "                            }\n",
    "                        ]\n",
    "                    }\n",
    "                ],\n",
    "                max_tokens=1000\n",
    "            )\n",
    "\n",
    "            # Extract content from the response object correctly\n",
    "            responses.append(response.choices[0].message.content)\n",
    "        except Exception as e:\n",
    "            print(f\"Error processing image {image_path}: {str(e)}\")\n",
    "            \n",
    "    # Clean up temporary image files\n",
    "    for image_path in images_array:\n",
    "        try:\n",
    "            os.remove(image_path)\n",
    "        except Exception as e:\n",
    "            print(f\"Error removing temporary file {image_path}: {str(e)}\")\n",
    "            \n",
    "    # Join text from all pages\n",
    "    extracted_text = \"\\n\\n\".join(responses)\n",
    "    return extracted_text"
   ]
  },
  {
   "cell_type": "code",
   "execution_count": 6,
   "metadata": {},
   "outputs": [
    {
     "name": "stdout",
     "output_type": "stream",
     "text": [
      "{'bank_details': {'bank_name': 'YourBank', 'address': '16 High Street. Anytown, Anyshire YZ99 1XY'}, 'account_holder': {'name': 'Mr John Smith', 'address': '5 Any Road, Randomford, Anyshire YZ985XY'}, 'account_info': {'account_name': 'Mr John Smith', 'account_type': 'Checking', 'account_number': '99988877', 'statement_period': '1 February to 1 March, 2019', 'page_number': 'Page 1 of 1'}, 'account_summary': {'balance_1_february': '£40,000.00', 'total_money_in': '£5,474.00', 'total_money_out': '£1,395.17', 'balance_1_march': '£44,079.83'}, 'transactions': [{'date': '1 February', 'description': 'Cardpayment - High St Petrol Station', 'money_out': '24.50', 'balance': '39,975.50'}, {'date': '1 February', 'description': 'Direct debit - Green Mobile Phone Bill', 'money_out': '20.00', 'balance': '39,955.50'}, {'date': '3 February', 'description': 'Cash Withdrawal - YourBank, Anytown', 'money_out': '30.00', 'balance': '39,925.50'}, {'date': '4 February', 'description': 'YourJob BiWeekly Payment', 'money_in': '2,575.00', 'balance': '42,500.50'}, {'date': '11 February', 'description': 'Direct Deposit - YourBank, Anytown High Street', 'money_in': '300.00', 'balance': '42,800.50'}, {'date': '16 February', 'description': 'Cash Withdrawal - RandomBank, Randomford', 'money_out': '50.00', 'balance': '42,750.50'}, {'date': '17 February', 'description': 'Card payment - High St Petrol Station', 'money_out': '40.00', 'balance': '42,710.50'}, {'date': '17 February', 'description': 'Direct Debit - Home Insurance', 'money_out': '78.34', 'balance': '42,632.16'}, {'date': '18 February', 'description': 'YourJob BiWeekly Payment', 'money_in': '2,575.00', 'balance': '45,207.16'}, {'date': '18 February', 'description': \"Randomford's Deli\", 'money_out': '15.00', 'balance': '45,195.16'}, {'date': '24 February', 'description': \"Anytown's Jewelers\", 'money_out': '150.00', 'balance': '45,042.16'}, {'date': '24 February', 'description': 'Direct Deposit', 'money_in': '25.00', 'balance': '45,067.16'}, {'date': '28 February', 'description': 'Monthly Apartment Rent', 'money_out': '987.33', 'balance': '44,079.83'}], 'final_balance': '£44,079.83'}\n"
     ]
    }
   ],
   "source": [
    "pdf_path = \"/Users/abhyudaygoyal/Desktop/HACKLYTICS/taxerino/backend/extraction/Bank Statement Example Final.pdf\"\n",
    "extracted_text = extract_text_from_pdf(pdf_path)\n",
    "data = json.loads(extracted_text[7:len(extracted_text)-3])\n",
    "# print(extracted_text[7:len(extracted_text)-3])\n",
    "print(data)"
   ]
  },
  {
   "cell_type": "markdown",
   "metadata": {},
   "source": [
    "INSERTING INTO MONGO DB"
   ]
  },
  {
   "cell_type": "code",
   "execution_count": null,
   "metadata": {},
   "outputs": [],
   "source": [
    "db = mongo_client['mydatabase']         # Replace with your actual database name\n",
    "collection = db['mycollection']         # Replace with your actual collection name\n",
    "result = collection.insert_one(data)\n",
    "print(\"Inserted document with id:\", result.inserted_id)"
   ]
  },
  {
   "cell_type": "markdown",
   "metadata": {},
   "source": [
    "FINDING FROM MONGO DB"
   ]
  },
  {
   "cell_type": "code",
   "execution_count": 8,
   "metadata": {},
   "outputs": [
    {
     "name": "stdout",
     "output_type": "stream",
     "text": [
      "{'_id': ObjectId('67b960ebdada2be8bc02b3d1'), 'employee': {'social_security_number': 'XXX-XX-8758', 'first_name': 'RITESH', 'middle_initial': 'R', 'last_name': 'THIPPARTHI', 'address': {'street': '4243 VALLEY DRIVE', 'unit': '2208', 'city': 'COLLEGE PARK', 'state': 'MD', 'zip_code': '20742'}}, 'employer': {'identification_number': '52-6002033', 'name': 'STATE OF MARYLAND CENTRAL PAYROLL BUREAU', 'address': {'address_line_1': 'P.O. BOX 2396', 'city': 'ANNAPOLIS', 'state': 'MD', 'zip_code': '21404-2396', 's_s': 'S.S.# 69-0520001L'}}, 'details': {'control_number': 'MD126640', 'wages_tips_other_compensation': 6232.85, 'federal_income_tax_withheld': 28.89, 'state': {'state_abbr': 'MD', 'employer_state_id_number': '52-6002033', 'state_wages_tips_etc': 6232.85, 'state_income_tax': 275.94}}, 'form_type': 'W-2', 'tax_year': 2024, 'reissued_statement': True}\n"
     ]
    }
   ],
   "source": [
    "db = mongo_client['mydatabase']         # Replace with your actual database name\n",
    "collection = db['mycollection']     # Replace with your actual collection name\n",
    "for document in collection.find():\n",
    "    print(document)"
   ]
  },
  {
   "cell_type": "code",
   "execution_count": null,
   "metadata": {},
   "outputs": [],
   "source": []
  }
 ],
 "metadata": {
  "kernelspec": {
   "display_name": "Python 3",
   "language": "python",
   "name": "python3"
  },
  "language_info": {
   "codemirror_mode": {
    "name": "ipython",
    "version": 3
   },
   "file_extension": ".py",
   "mimetype": "text/x-python",
   "name": "python",
   "nbconvert_exporter": "python",
   "pygments_lexer": "ipython3",
   "version": "3.12.2"
  }
 },
 "nbformat": 4,
 "nbformat_minor": 2
}
